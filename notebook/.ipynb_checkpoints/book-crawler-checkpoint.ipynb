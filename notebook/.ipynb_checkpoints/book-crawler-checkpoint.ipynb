{
 "cells": [
  {
   "cell_type": "code",
   "execution_count": 21,
   "metadata": {},
   "outputs": [],
   "source": [
    "import requests\n",
    "from bs4 import BeautifulSoup"
   ]
  },
  {
   "cell_type": "markdown",
   "metadata": {},
   "source": [
    "### 輸入網址與簡單清理\n",
    "- 除去由搜尋結果進入頁面所產生的網址參數\n",
    "  - 取得標準的網址格式\n",
    "- 取得書的id"
   ]
  },
  {
   "cell_type": "code",
   "execution_count": 19,
   "metadata": {},
   "outputs": [
    {
     "data": {
      "text/plain": [
       "['hello world']"
      ]
     },
     "execution_count": 19,
     "metadata": {},
     "output_type": "execute_result"
    }
   ],
   "source": [
    "'hello world'.split('=')\n",
    "# 當指定的分隔符號或字元不存在目標字串中時，會回傳字串本身的單一元素list"
   ]
  },
  {
   "cell_type": "markdown",
   "metadata": {},
   "source": [
    "### 除去id以後的參數，得到乾淨的網址"
   ]
  },
  {
   "cell_type": "code",
   "execution_count": 145,
   "metadata": {},
   "outputs": [
    {
     "name": "stdout",
     "output_type": "stream",
     "text": [
      "請輸入網址：http://hylib.ht.org.tw/bookDetail.do?id=99257&resid=188810812&nowid=3\n"
     ]
    },
    {
     "data": {
      "text/plain": [
       "'http://hylib.ht.org.tw/bookDetail.do?id=99257'"
      ]
     },
     "execution_count": 145,
     "metadata": {},
     "output_type": "execute_result"
    }
   ],
   "source": [
    "url_raw=input('請輸入網址：')\n",
    "url=url_raw.split('&')[0]\n",
    "url"
   ]
  },
  {
   "cell_type": "markdown",
   "metadata": {},
   "source": [
    "### 從網址中再擷取書id，以後續填入data"
   ]
  },
  {
   "cell_type": "code",
   "execution_count": 146,
   "metadata": {},
   "outputs": [
    {
     "name": "stdout",
     "output_type": "stream",
     "text": [
      "書的id為 99257\n"
     ]
    }
   ],
   "source": [
    "try:\n",
    "    book_id=url.split('=')[1]\n",
    "except :\n",
    "    print('請填入符合圖書館格式之網址')\n",
    "else:print('書的id為',book_id)"
   ]
  },
  {
   "cell_type": "markdown",
   "metadata": {},
   "source": [
    "### 取得書名資料"
   ]
  },
  {
   "cell_type": "code",
   "execution_count": 147,
   "metadata": {},
   "outputs": [],
   "source": [
    "book_page = requests.get(url)\n",
    "book_page_soup = BeautifulSoup(book_page.text, 'html.parser')"
   ]
  },
  {
   "cell_type": "code",
   "execution_count": 148,
   "metadata": {},
   "outputs": [
    {
     "data": {
      "text/plain": [
       "'現在,很想見你'"
      ]
     },
     "execution_count": 148,
     "metadata": {},
     "output_type": "execute_result"
    }
   ],
   "source": [
    "book_name=book_page_soup.find('h3').text\n",
    "book_name"
   ]
  },
  {
   "cell_type": "markdown",
   "metadata": {},
   "source": [
    "### 取得書的借閱狀態詳細資料"
   ]
  },
  {
   "cell_type": "code",
   "execution_count": 149,
   "metadata": {
    "scrolled": true
   },
   "outputs": [
    {
     "data": {
      "text/plain": [
       "<table class=\"order\">\n",
       "<tr>\n",
       "<th>#</th>\n",
       "<th>條碼號</th>\n",
       "<th>館藏地/室</th>\n",
       "<th>索書號</th>\n",
       "<th>資料類型</th>\n",
       "<th>目前狀態 / 到期日</th>\n",
       "<th>附件</th>\n",
       "<th rel=\"reserve\">預約</th>\n",
       "</tr>\n",
       "<tr>\n",
       "<td>1</td>\n",
       "<td>0275277</td>\n",
       "<td>敦化總館/敦化總館</td>\n",
       "<td> 861.57 0251   </td>\n",
       "<td>一般圖書/一般</td>\n",
       "<td>已被外借 / 2005-12-03</td>\n",
       "<td></td>\n",
       "<td rel=\"reserve\">\n",
       "<input class=\"btn\" onclick=\"tb_show('', 'personalization/Login4Reserve.do?rdurl=&amp;backVal=-1&amp;id=99257&amp;site=1&amp;hold=146301&amp;keeproom=20&amp;collectionDef=3&amp;purpose=0&amp;height=320&amp;width=650&amp;TB_iframe=true', false)\" title=\"預約\" type=\"button\" value=\"預約\"/>\n",
       "\t\t\t\t\t\t\t\t / 0人預約\n",
       "\t\t\t\t\t\t\t</td>\n",
       "</tr>\n",
       "<tr>\n",
       "<td>2</td>\n",
       "<td>0275278</td>\n",
       "<td>敦化總館/開架圖書室</td>\n",
       "<td> 861.57 0251   </td>\n",
       "<td>一般圖書/一般</td>\n",
       "<td>書在館</td>\n",
       "<td></td>\n",
       "<td rel=\"reserve\">\n",
       "\t\t\t\t\n",
       "\t\t\t\t\t\t\t\t不可預約\n",
       "\t\t\t\t\t\n",
       "\t\t\t\t\t\t\t</td>\n",
       "</tr>\n",
       "<tr>\n",
       "<td>3</td>\n",
       "<td>0282943</td>\n",
       "<td>敦化總館/敦化總館</td>\n",
       "<td> 861.57 0251   C.1</td>\n",
       "<td>一般圖書/一般</td>\n",
       "<td>書在館</td>\n",
       "<td></td>\n",
       "<td rel=\"reserve\">\n",
       "\t\t\t\t\n",
       "\t\t\t\t\t\t\t\t不可預約\n",
       "\t\t\t\t\t\n",
       "\t\t\t\t\t\t\t</td>\n",
       "</tr>\n",
       "</table>"
      ]
     },
     "execution_count": 149,
     "metadata": {},
     "output_type": "execute_result"
    }
   ],
   "source": [
    "data = {'id':book_id}\n",
    "\n",
    "resu = requests.post(\n",
    "    'http://hylib.ht.org.tw/maintain/HoldListForBookDetailAjax.do', data=data)\n",
    "soup = BeautifulSoup(resu.text, 'html.parser')\n",
    "soup.find('table', 'order')"
   ]
  },
  {
   "cell_type": "markdown",
   "metadata": {},
   "source": [
    "![表格呈現](table.png)"
   ]
  },
  {
   "cell_type": "markdown",
   "metadata": {},
   "source": [
    "## ◆只有一本館藏情形"
   ]
  },
  {
   "cell_type": "markdown",
   "metadata": {},
   "source": [
    "### 目標輸出格式：字典(JSON)\n",
    "- 條碼號、館藏地/室、索書號…等為鍵\n",
    "  - #、資料類型、附件等3欄不採用\n",
    "- 欄位值為值"
   ]
  },
  {
   "cell_type": "code",
   "execution_count": 136,
   "metadata": {},
   "outputs": [],
   "source": [
    "table=soup.find('table', 'order')"
   ]
  },
  {
   "cell_type": "markdown",
   "metadata": {},
   "source": [
    "### 取得欄位名稱list\n",
    "注意，其實這個部分是完全固定的，所以做出第一個之後，就可以直接採用了"
   ]
  },
  {
   "cell_type": "code",
   "execution_count": 108,
   "metadata": {
    "scrolled": true
   },
   "outputs": [
    {
     "data": {
      "text/plain": [
       "[<th>#</th>,\n",
       " <th>條碼號</th>,\n",
       " <th>館藏地/室</th>,\n",
       " <th>索書號</th>,\n",
       " <th>資料類型</th>,\n",
       " <th>目前狀態 / 到期日</th>,\n",
       " <th>附件</th>,\n",
       " <th rel=\"reserve\">預約</th>]"
      ]
     },
     "execution_count": 108,
     "metadata": {},
     "output_type": "execute_result"
    }
   ],
   "source": [
    "table.find_all('th')"
   ]
  },
  {
   "cell_type": "code",
   "execution_count": 109,
   "metadata": {},
   "outputs": [
    {
     "data": {
      "text/plain": [
       "['條碼號', '館藏地/室', '索書號', '目前狀態 / 到期日', '預約']"
      ]
     },
     "execution_count": 109,
     "metadata": {},
     "output_type": "execute_result"
    }
   ],
   "source": [
    "ths=table.find_all('th')\n",
    "column_list=[]\n",
    "for th in ths:\n",
    "    column_list.append(th.text)\n",
    "column_list.remove('#')\n",
    "column_list.remove('資料類型')\n",
    "column_list.remove('附件')\n",
    "\n",
    "column_list\n",
    "# 先全加再刪除，做法有點粗糙"
   ]
  },
  {
   "cell_type": "markdown",
   "metadata": {},
   "source": [
    "### 用另一個方法來取"
   ]
  },
  {
   "cell_type": "code",
   "execution_count": 183,
   "metadata": {},
   "outputs": [
    {
     "data": {
      "text/plain": [
       "[<th>#</th>,\n",
       " <th>條碼號</th>,\n",
       " <th>館藏地/室</th>,\n",
       " <th>索書號</th>,\n",
       " <th>資料類型</th>,\n",
       " <th>目前狀態 / 到期日</th>,\n",
       " <th>附件</th>,\n",
       " <th rel=\"reserve\">預約</th>]"
      ]
     },
     "execution_count": 183,
     "metadata": {},
     "output_type": "execute_result"
    }
   ],
   "source": [
    "column_list_new=[]\n",
    "ths=table.find_all('th')\n",
    "ths"
   ]
  },
  {
   "cell_type": "code",
   "execution_count": 67,
   "metadata": {},
   "outputs": [
    {
     "data": {
      "text/plain": [
       "['條碼號', '館藏地/室', '索書號', '目前狀態 / 到期日', '預約']"
      ]
     },
     "execution_count": 67,
     "metadata": {},
     "output_type": "execute_result"
    }
   ],
   "source": [
    "for i in range(len(ths)):\n",
    "    if i in (0,4,6):\n",
    "        continue\n",
    "    column_list_new.append(ths[i].text)\n",
    "\n",
    "column_list_new\n",
    "# 這樣好一點，但用了額外的range和len，實際的複雜度可能是提高的"
   ]
  },
  {
   "cell_type": "markdown",
   "metadata": {},
   "source": [
    "### 第三種方法\n",
    "- 使用 .stripped_strings 屬性\n",
    "- 前提是，物件必須是Tag\n",
    "  - 用find_all()回傳的是ResultSet，類似list，不是Tag，但元素都是Tag\n",
    "  - find()回傳的則是Tag，其實就是find_all()結果的的第一個元素，所以當然是Tag"
   ]
  },
  {
   "cell_type": "code",
   "execution_count": 201,
   "metadata": {},
   "outputs": [
    {
     "data": {
      "text/plain": [
       "bs4.element.ResultSet"
      ]
     },
     "execution_count": 201,
     "metadata": {},
     "output_type": "execute_result"
    }
   ],
   "source": [
    "ths=table.find_all('th')\n",
    "type(ths)"
   ]
  },
  {
   "cell_type": "code",
   "execution_count": 191,
   "metadata": {},
   "outputs": [
    {
     "data": {
      "text/plain": [
       "bs4.element.Tag"
      ]
     },
     "execution_count": 191,
     "metadata": {},
     "output_type": "execute_result"
    }
   ],
   "source": [
    "type(ths[0])\n",
    "# ResultSet的元素才是Tag"
   ]
  },
  {
   "cell_type": "code",
   "execution_count": 192,
   "metadata": {},
   "outputs": [
    {
     "data": {
      "text/plain": [
       "'#'"
      ]
     },
     "execution_count": 192,
     "metadata": {},
     "output_type": "execute_result"
    }
   ],
   "source": [
    "ths[0].text\n",
    "# 範圍已經太小了"
   ]
  },
  {
   "cell_type": "markdown",
   "metadata": {},
   "source": [
    "### 第三種方法，改正，把find的範圍往上一層"
   ]
  },
  {
   "cell_type": "code",
   "execution_count": 194,
   "metadata": {},
   "outputs": [
    {
     "data": {
      "text/plain": [
       "<tr>\n",
       "<th>#</th>\n",
       "<th>條碼號</th>\n",
       "<th>館藏地/室</th>\n",
       "<th>索書號</th>\n",
       "<th>資料類型</th>\n",
       "<th>目前狀態 / 到期日</th>\n",
       "<th>附件</th>\n",
       "<th rel=\"reserve\">預約</th>\n",
       "</tr>"
      ]
     },
     "execution_count": 194,
     "metadata": {},
     "output_type": "execute_result"
    }
   ],
   "source": [
    "tr_head=table.find('tr')\n",
    "tr_head"
   ]
  },
  {
   "cell_type": "code",
   "execution_count": 195,
   "metadata": {},
   "outputs": [
    {
     "data": {
      "text/plain": [
       "bs4.element.Tag"
      ]
     },
     "execution_count": 195,
     "metadata": {},
     "output_type": "execute_result"
    }
   ],
   "source": [
    "type(tr_head)"
   ]
  },
  {
   "cell_type": "code",
   "execution_count": 198,
   "metadata": {},
   "outputs": [
    {
     "data": {
      "text/plain": [
       "<generator object stripped_strings at 0x000001CACEE88728>"
      ]
     },
     "execution_count": 198,
     "metadata": {},
     "output_type": "execute_result"
    }
   ],
   "source": [
    "tr_head.stripped_strings"
   ]
  },
  {
   "cell_type": "code",
   "execution_count": 200,
   "metadata": {},
   "outputs": [
    {
     "data": {
      "text/plain": [
       "['#', '條碼號', '館藏地/室', '索書號', '資料類型', '目前狀態 / 到期日', '附件', '預約']"
      ]
     },
     "execution_count": 200,
     "metadata": {},
     "output_type": "execute_result"
    }
   ],
   "source": [
    "list(tr_head.stripped_strings)\n",
    "# 做到這裡就好，意思到了\n",
    "# 接下來的步驟和方法一差不多，都要remove"
   ]
  },
  {
   "cell_type": "markdown",
   "metadata": {},
   "source": [
    "### 比較不喜歡用節點搜尋\n",
    "也並非必要，只是替代方案"
   ]
  },
  {
   "cell_type": "code",
   "execution_count": 202,
   "metadata": {},
   "outputs": [
    {
     "data": {
      "text/plain": [
       "<list_iterator at 0x1cacf06df28>"
      ]
     },
     "execution_count": 202,
     "metadata": {},
     "output_type": "execute_result"
    }
   ],
   "source": [
    "tr_head.children"
   ]
  },
  {
   "cell_type": "code",
   "execution_count": 210,
   "metadata": {},
   "outputs": [
    {
     "data": {
      "text/plain": [
       "['\\n',\n",
       " <th>#</th>,\n",
       " '\\n',\n",
       " <th>條碼號</th>,\n",
       " '\\n',\n",
       " <th>館藏地/室</th>,\n",
       " '\\n',\n",
       " <th>索書號</th>,\n",
       " '\\n',\n",
       " <th>資料類型</th>,\n",
       " '\\n',\n",
       " <th>目前狀態 / 到期日</th>,\n",
       " '\\n',\n",
       " <th>附件</th>,\n",
       " '\\n',\n",
       " <th rel=\"reserve\">預約</th>,\n",
       " '\\n']"
      ]
     },
     "execution_count": 210,
     "metadata": {},
     "output_type": "execute_result"
    }
   ],
   "source": [
    "[td for td in tr_head.children]"
   ]
  },
  {
   "cell_type": "code",
   "execution_count": 208,
   "metadata": {
    "scrolled": false
   },
   "outputs": [
    {
     "data": {
      "text/plain": [
       "['\\n',\n",
       " <th>#</th>,\n",
       " '\\n',\n",
       " <th>條碼號</th>,\n",
       " '\\n',\n",
       " <th>館藏地/室</th>,\n",
       " '\\n',\n",
       " <th>索書號</th>,\n",
       " '\\n',\n",
       " <th>資料類型</th>,\n",
       " '\\n',\n",
       " <th>目前狀態 / 到期日</th>,\n",
       " '\\n',\n",
       " <th>附件</th>,\n",
       " '\\n',\n",
       " <th rel=\"reserve\">預約</th>,\n",
       " '\\n']"
      ]
     },
     "execution_count": 208,
     "metadata": {},
     "output_type": "execute_result"
    }
   ],
   "source": [
    "list(tr_head.children)\n",
    "# 這個寫法顯然簡單多了，雖然底層的做法應該是一樣的"
   ]
  },
  {
   "cell_type": "markdown",
   "metadata": {},
   "source": [
    "## 取得欄位值list\n",
    "採用取得欄位值的第二種方法"
   ]
  },
  {
   "cell_type": "code",
   "execution_count": 137,
   "metadata": {},
   "outputs": [
    {
     "data": {
      "text/plain": [
       "[<td>1</td>,\n",
       " <td>0432771</td>,\n",
       " <td>敦化總館/開架圖書室</td>,\n",
       " <td> 112.807 0172   </td>,\n",
       " <td>一般圖書/新書</td>,\n",
       " <td>預約待取</td>,\n",
       " <td></td>,\n",
       " <td rel=\"reserve\">\n",
       " <input class=\"btn\" onclick=\"tb_show('', 'personalization/Login4Reserve.do?rdurl=&amp;backVal=-1&amp;id=189955&amp;site=1&amp;hold=324967&amp;keeproom=18&amp;collectionDef=3&amp;purpose=3&amp;height=320&amp;width=650&amp;TB_iframe=true', false)\" title=\"預約\" type=\"button\" value=\"預約\"/>\n",
       " \t\t\t\t\t\t\t\t / 1人預約\n",
       " \t\t\t\t\t\t\t</td>]"
      ]
     },
     "execution_count": 137,
     "metadata": {},
     "output_type": "execute_result"
    }
   ],
   "source": [
    "tds=table.find_all('td')\n",
    "tds"
   ]
  },
  {
   "cell_type": "code",
   "execution_count": 138,
   "metadata": {},
   "outputs": [
    {
     "data": {
      "text/plain": [
       "['0432771', '敦化總館/開架圖書室', '112.807 0172', '預約待取', '/ 1人預約']"
      ]
     },
     "execution_count": 138,
     "metadata": {},
     "output_type": "execute_result"
    }
   ],
   "source": [
    "values_list=[]\n",
    "for i in range(len(tds)):\n",
    "    if i in (0,4,6):\n",
    "        continue\n",
    "    values_list.append(tds[i].text.strip())\n",
    "values_list"
   ]
  },
  {
   "cell_type": "markdown",
   "metadata": {},
   "source": [
    "### 對最後一格加工一下，只留下「0人預約」"
   ]
  },
  {
   "cell_type": "code",
   "execution_count": 112,
   "metadata": {},
   "outputs": [
    {
     "data": {
      "text/plain": [
       "'不可預約'"
      ]
     },
     "execution_count": 112,
     "metadata": {},
     "output_type": "execute_result"
    }
   ],
   "source": [
    "values_list[-1]"
   ]
  },
  {
   "cell_type": "code",
   "execution_count": 113,
   "metadata": {},
   "outputs": [
    {
     "data": {
      "text/plain": [
       "['不可預約']"
      ]
     },
     "execution_count": 113,
     "metadata": {},
     "output_type": "execute_result"
    }
   ],
   "source": [
    "values_list[-1].split()"
   ]
  },
  {
   "cell_type": "code",
   "execution_count": 139,
   "metadata": {},
   "outputs": [
    {
     "data": {
      "text/plain": [
       "'1人預約'"
      ]
     },
     "execution_count": 139,
     "metadata": {},
     "output_type": "execute_result"
    }
   ],
   "source": [
    "values_list[-1].split()[1]"
   ]
  },
  {
   "cell_type": "code",
   "execution_count": 140,
   "metadata": {},
   "outputs": [],
   "source": [
    "if values_list[-1]!='不可預約':\n",
    "    values_list[-1]=values_list[-1].split()[1]"
   ]
  },
  {
   "cell_type": "code",
   "execution_count": 141,
   "metadata": {},
   "outputs": [
    {
     "data": {
      "text/plain": [
       "['0432771', '敦化總館/開架圖書室', '112.807 0172', '預約待取', '1人預約']"
      ]
     },
     "execution_count": 141,
     "metadata": {},
     "output_type": "execute_result"
    }
   ],
   "source": [
    "values_list"
   ]
  },
  {
   "cell_type": "markdown",
   "metadata": {},
   "source": [
    "### 產生書籍狀態字典"
   ]
  },
  {
   "cell_type": "markdown",
   "metadata": {},
   "source": [
    "    {col:val for col,val in column_list_new,values_list}\n",
    "- 錯誤寫法\n",
    "- 最後的iterable<U>只能有一個</U>\n",
    "  - 如果前面的變數有兩個，那iterable就是「雙子元素」◆本例即是\n",
    "  - 如果前面的變數只有一個，那就是單元素的一般iterable"
   ]
  },
  {
   "cell_type": "code",
   "execution_count": 93,
   "metadata": {},
   "outputs": [
    {
     "data": {
      "text/plain": [
       "[('條碼號', '0420205'),\n",
       " ('館藏地/室', '敦化總館/敦化總館'),\n",
       " ('索書號', '494.2 3454-4'),\n",
       " ('目前狀態 / 到期日', '已被外借 / 2019-03-09'),\n",
       " ('預約', '0人預約')]"
      ]
     },
     "execution_count": 93,
     "metadata": {},
     "output_type": "execute_result"
    }
   ],
   "source": [
    "list(zip(column_list,values_list))\n",
    "# zip為抽象元素，要用list()具體化\n",
    "# 無論是用什麼來具體化，元素都是tuple"
   ]
  },
  {
   "cell_type": "code",
   "execution_count": 94,
   "metadata": {},
   "outputs": [
    {
     "data": {
      "text/plain": [
       "{'條碼號': '0420205',\n",
       " '館藏地/室': '敦化總館/敦化總館',\n",
       " '索書號': '494.2 3454-4',\n",
       " '目前狀態 / 到期日': '已被外借 / 2019-03-09',\n",
       " '預約': '0人預約'}"
      ]
     },
     "execution_count": 94,
     "metadata": {},
     "output_type": "execute_result"
    }
   ],
   "source": [
    "dict((zip(column_list,values_list)))\n",
    "# 直接用dict()，不用字典生成式"
   ]
  },
  {
   "cell_type": "code",
   "execution_count": 91,
   "metadata": {
    "scrolled": false
   },
   "outputs": [
    {
     "data": {
      "text/plain": [
       "{'條碼號': '0420205',\n",
       " '館藏地/室': '敦化總館/敦化總館',\n",
       " '索書號': '494.2 3454-4',\n",
       " '目前狀態 / 到期日': '已被外借 / 2019-03-09',\n",
       " '預約': '0人預約'}"
      ]
     },
     "execution_count": 91,
     "metadata": {},
     "output_type": "execute_result"
    }
   ],
   "source": [
    "{col:val for col,val in zip(column_list_new,values_list)}\n",
    "# 加上zip化為雙子元素的tuple就OK啦"
   ]
  },
  {
   "cell_type": "code",
   "execution_count": 142,
   "metadata": {},
   "outputs": [
    {
     "data": {
      "text/plain": [
       "{'條碼號': '0432771',\n",
       " '館藏地/室': '敦化總館/開架圖書室',\n",
       " '索書號': '112.807 0172',\n",
       " '目前狀態 / 到期日': '預約待取',\n",
       " '預約': '1人預約',\n",
       " '書名': '龔鵬程述學'}"
      ]
     },
     "execution_count": 142,
     "metadata": {},
     "output_type": "execute_result"
    }
   ],
   "source": [
    "book_dict=dict((zip(column_list,values_list)))\n",
    "book_dict['書名']=book_name\n",
    "book_dict"
   ]
  },
  {
   "cell_type": "markdown",
   "metadata": {},
   "source": [
    "## ◆2本以上館藏情形\n",
    "前面的程式碼，在2本以上的館藏時，只會顯示第一本的資料"
   ]
  },
  {
   "cell_type": "markdown",
   "metadata": {},
   "source": [
    "### 目標輸出格式：字典(JSON)\n",
    "- 鍵：(值1,值2,值3)\n",
    "- 看圖可知，條碼號一定不同，但其餘有取用的欄位，每一欄也都有可能不同\n",
    "- 結論，每一欄(除了最後的書名)，都要採值1、值2、值3…的格式，使用tuple"
   ]
  },
  {
   "cell_type": "markdown",
   "metadata": {},
   "source": [
    "![](tables.png)"
   ]
  },
  {
   "cell_type": "code",
   "execution_count": 151,
   "metadata": {},
   "outputs": [],
   "source": [
    "table=soup.find('table', 'order')"
   ]
  },
  {
   "cell_type": "code",
   "execution_count": 152,
   "metadata": {},
   "outputs": [
    {
     "data": {
      "text/plain": [
       "<table class=\"order\">\n",
       "<tr>\n",
       "<th>#</th>\n",
       "<th>條碼號</th>\n",
       "<th>館藏地/室</th>\n",
       "<th>索書號</th>\n",
       "<th>資料類型</th>\n",
       "<th>目前狀態 / 到期日</th>\n",
       "<th>附件</th>\n",
       "<th rel=\"reserve\">預約</th>\n",
       "</tr>\n",
       "<tr>\n",
       "<td>1</td>\n",
       "<td>0275277</td>\n",
       "<td>敦化總館/敦化總館</td>\n",
       "<td> 861.57 0251   </td>\n",
       "<td>一般圖書/一般</td>\n",
       "<td>已被外借 / 2005-12-03</td>\n",
       "<td></td>\n",
       "<td rel=\"reserve\">\n",
       "<input class=\"btn\" onclick=\"tb_show('', 'personalization/Login4Reserve.do?rdurl=&amp;backVal=-1&amp;id=99257&amp;site=1&amp;hold=146301&amp;keeproom=20&amp;collectionDef=3&amp;purpose=0&amp;height=320&amp;width=650&amp;TB_iframe=true', false)\" title=\"預約\" type=\"button\" value=\"預約\"/>\n",
       "\t\t\t\t\t\t\t\t / 0人預約\n",
       "\t\t\t\t\t\t\t</td>\n",
       "</tr>\n",
       "<tr>\n",
       "<td>2</td>\n",
       "<td>0275278</td>\n",
       "<td>敦化總館/開架圖書室</td>\n",
       "<td> 861.57 0251   </td>\n",
       "<td>一般圖書/一般</td>\n",
       "<td>書在館</td>\n",
       "<td></td>\n",
       "<td rel=\"reserve\">\n",
       "\t\t\t\t\n",
       "\t\t\t\t\t\t\t\t不可預約\n",
       "\t\t\t\t\t\n",
       "\t\t\t\t\t\t\t</td>\n",
       "</tr>\n",
       "<tr>\n",
       "<td>3</td>\n",
       "<td>0282943</td>\n",
       "<td>敦化總館/敦化總館</td>\n",
       "<td> 861.57 0251   C.1</td>\n",
       "<td>一般圖書/一般</td>\n",
       "<td>書在館</td>\n",
       "<td></td>\n",
       "<td rel=\"reserve\">\n",
       "\t\t\t\t\n",
       "\t\t\t\t\t\t\t\t不可預約\n",
       "\t\t\t\t\t\n",
       "\t\t\t\t\t\t\t</td>\n",
       "</tr>\n",
       "</table>"
      ]
     },
     "execution_count": 152,
     "metadata": {},
     "output_type": "execute_result"
    }
   ],
   "source": [
    "table"
   ]
  },
  {
   "cell_type": "code",
   "execution_count": 162,
   "metadata": {},
   "outputs": [
    {
     "data": {
      "text/plain": [
       "<tr>\n",
       "<td>1</td>\n",
       "<td>0275277</td>\n",
       "<td>敦化總館/敦化總館</td>\n",
       "<td> 861.57 0251   </td>\n",
       "<td>一般圖書/一般</td>\n",
       "<td>已被外借 / 2005-12-03</td>\n",
       "<td></td>\n",
       "<td rel=\"reserve\">\n",
       "<input class=\"btn\" onclick=\"tb_show('', 'personalization/Login4Reserve.do?rdurl=&amp;backVal=-1&amp;id=99257&amp;site=1&amp;hold=146301&amp;keeproom=20&amp;collectionDef=3&amp;purpose=0&amp;height=320&amp;width=650&amp;TB_iframe=true', false)\" title=\"預約\" type=\"button\" value=\"預約\"/>\n",
       "\t\t\t\t\t\t\t\t / 0人預約\n",
       "\t\t\t\t\t\t\t</td>\n",
       "</tr>"
      ]
     },
     "execution_count": 162,
     "metadata": {},
     "output_type": "execute_result"
    }
   ],
   "source": [
    "trs_with_head=table.find_all('tr')\n",
    "trs=trs_with_head[1:]\n",
    "trs[0]"
   ]
  },
  {
   "cell_type": "code",
   "execution_count": 187,
   "metadata": {},
   "outputs": [
    {
     "data": {
      "text/plain": [
       "bs4.element.Tag"
      ]
     },
     "execution_count": 187,
     "metadata": {},
     "output_type": "execute_result"
    }
   ],
   "source": [
    "type(trs[0])"
   ]
  },
  {
   "cell_type": "code",
   "execution_count": 180,
   "metadata": {},
   "outputs": [
    {
     "name": "stdout",
     "output_type": "stream",
     "text": [
      "1\n",
      "0275277\n",
      "敦化總館/敦化總館\n",
      "861.57 0251\n",
      "一般圖書/一般\n",
      "已被外借 / 2005-12-03\n",
      "/ 0人預約\n"
     ]
    }
   ],
   "source": [
    "trs[0].stripped_strings\n",
    "# 這是一個產生器物件，元素是各個被HTML標籤包起來的字串，而且會自動去前後的空白\n",
    "for i in trs[0].stripped_strings:\n",
    "    print(i)"
   ]
  },
  {
   "cell_type": "code",
   "execution_count": 182,
   "metadata": {},
   "outputs": [
    {
     "data": {
      "text/plain": [
       "['1',\n",
       " '0275277',\n",
       " '敦化總館/敦化總館',\n",
       " '861.57 0251',\n",
       " '一般圖書/一般',\n",
       " '已被外借 / 2005-12-03',\n",
       " '/ 0人預約']"
      ]
     },
     "execution_count": 182,
     "metadata": {},
     "output_type": "execute_result"
    }
   ],
   "source": [
    "list(trs[0].stripped_strings)\n",
    "# 直接list()具體化"
   ]
  },
  {
   "cell_type": "code",
   "execution_count": 172,
   "metadata": {},
   "outputs": [
    {
     "data": {
      "text/plain": [
       "<td>1</td>"
      ]
     },
     "execution_count": 172,
     "metadata": {},
     "output_type": "execute_result"
    }
   ],
   "source": [
    "trs[0].td"
   ]
  },
  {
   "cell_type": "code",
   "execution_count": 174,
   "metadata": {
    "scrolled": true
   },
   "outputs": [
    {
     "data": {
      "text/plain": [
       "<td>1</td>"
      ]
     },
     "execution_count": 174,
     "metadata": {},
     "output_type": "execute_result"
    }
   ],
   "source": [
    "trs[0].find('td')\n",
    "# 相同，缺點就是只能找第一個，如果只有一個，那可以直接使用屬性"
   ]
  },
  {
   "cell_type": "code",
   "execution_count": 177,
   "metadata": {},
   "outputs": [
    {
     "data": {
      "text/plain": [
       "<input class=\"btn\" onclick=\"tb_show('', 'personalization/Login4Reserve.do?rdurl=&amp;backVal=-1&amp;id=99257&amp;site=1&amp;hold=146301&amp;keeproom=20&amp;collectionDef=3&amp;purpose=0&amp;height=320&amp;width=650&amp;TB_iframe=true', false)\" title=\"預約\" type=\"button\" value=\"預約\"/>"
      ]
     },
     "execution_count": 177,
     "metadata": {},
     "output_type": "execute_result"
    }
   ],
   "source": [
    "trs[0].input"
   ]
  },
  {
   "cell_type": "code",
   "execution_count": 179,
   "metadata": {},
   "outputs": [
    {
     "data": {
      "text/plain": [
       "['btn']"
      ]
     },
     "execution_count": 179,
     "metadata": {},
     "output_type": "execute_result"
    }
   ],
   "source": [
    "trs[0].input['class']"
   ]
  },
  {
   "cell_type": "markdown",
   "metadata": {},
   "source": [
    "### 卡了點關，先假設一個類似但相對簡單的情境\n",
    ">前面因為剛好tr只有兩個，而且th和td都各成一列，抓起來不會重複，可以省略tr這個層，但這次tr有4個，我要其中3個tr裡面的td，這樣情況就明顯不同了\n",
    "\n",
    "要把 [(1,2,3),(1,2,3),(1,2,3)] 輸出為：  \n",
    "[[1,1,1],[2,2,2],[3,3,3]]"
   ]
  },
  {
   "cell_type": "code",
   "execution_count": 225,
   "metadata": {},
   "outputs": [
    {
     "data": {
      "text/plain": [
       "[[1, 2, 3], [1, 2, 3], [1, 2, 3]]"
      ]
     },
     "execution_count": 225,
     "metadata": {},
     "output_type": "execute_result"
    }
   ],
   "source": [
    "origin=[(1,2,3),(1,2,3),(1,2,3)]\n",
    "def rework_list(lst):\n",
    "    new_list=[]\n",
    "    for child in lst:\n",
    "        new_child=[]\n",
    "        for i in child:\n",
    "            new_child.append(i)\n",
    "        new_list.append(new_child)\n",
    "    return new_list\n",
    "\n",
    "rework_list(origin)\n",
    "\n",
    "# 做不出來，此時解題的思維是，先做出第一個[1,1,1]，其餘可以不管"
   ]
  },
  {
   "cell_type": "code",
   "execution_count": 225,
   "metadata": {},
   "outputs": [
    {
     "data": {
      "text/plain": [
       "[[1, 2, 3], [1, 2, 3], [1, 2, 3]]"
      ]
     },
     "execution_count": 225,
     "metadata": {},
     "output_type": "execute_result"
    }
   ],
   "source": [
    "origin=[(1,2,3),(1,2,3),(1,2,3)]\n",
    "def rework_list2(lst):\n",
    "\n",
    "\n"
   ]
  },
  {
   "cell_type": "code",
   "execution_count": null,
   "metadata": {},
   "outputs": [],
   "source": []
  },
  {
   "cell_type": "code",
   "execution_count": null,
   "metadata": {},
   "outputs": [],
   "source": []
  },
  {
   "cell_type": "code",
   "execution_count": null,
   "metadata": {},
   "outputs": [],
   "source": []
  },
  {
   "cell_type": "markdown",
   "metadata": {},
   "source": [
    "### 繼續實作"
   ]
  },
  {
   "cell_type": "code",
   "execution_count": 217,
   "metadata": {},
   "outputs": [
    {
     "name": "stdout",
     "output_type": "stream",
     "text": [
      "['1', '0275277', '敦化總館/敦化總館', '861.57 0251', '一般圖書/一般', '已被外借 / 2005-12-03', '/ 0人預約']\n",
      "['2', '0275278', '敦化總館/開架圖書室', '861.57 0251', '一般圖書/一般', '書在館', '不可預約']\n",
      "['3', '0282943', '敦化總館/敦化總館', '861.57 0251   C.1', '一般圖書/一般', '書在館', '不可預約']\n"
     ]
    }
   ],
   "source": [
    "for tr in trs:\n",
    "    print(list(tr.stripped_strings))\n",
    "# 你看這個是不是就真的跟簡化版一模一樣"
   ]
  },
  {
   "cell_type": "code",
   "execution_count": null,
   "metadata": {},
   "outputs": [],
   "source": []
  },
  {
   "cell_type": "markdown",
   "metadata": {},
   "source": [
    "### json to dict, dict to json\n",
    "- 練習字典與json的格式轉換，以思考館藏資料怎麼輸出才是最好利用，彈性最大\n",
    "- 考慮到少數圖書有2本以上，此時輸出的格式更是必須納入設計上的考量"
   ]
  },
  {
   "cell_type": "code",
   "execution_count": 6,
   "metadata": {},
   "outputs": [],
   "source": [
    "import json"
   ]
  },
  {
   "cell_type": "code",
   "execution_count": 212,
   "metadata": {},
   "outputs": [
    {
     "data": {
      "text/plain": [
       "{'a': (1, 2), 'b': (2, 4), 'c': (3, 6)}"
      ]
     },
     "execution_count": 212,
     "metadata": {},
     "output_type": "execute_result"
    }
   ],
   "source": [
    "dct=dict(a=(1,2),b=(2,4),c=(3,6))\n",
    "dct"
   ]
  },
  {
   "cell_type": "code",
   "execution_count": 214,
   "metadata": {},
   "outputs": [
    {
     "data": {
      "text/plain": [
       "'{\"a\": [1, 2], \"b\": [2, 4], \"c\": [3, 6]}'"
      ]
     },
     "execution_count": 214,
     "metadata": {},
     "output_type": "execute_result"
    }
   ],
   "source": [
    "json.dumps(dct)"
   ]
  }
 ],
 "metadata": {
  "kernelspec": {
   "display_name": "Python 3",
   "language": "python",
   "name": "python3"
  },
  "language_info": {
   "codemirror_mode": {
    "name": "ipython",
    "version": 3
   },
   "file_extension": ".py",
   "mimetype": "text/x-python",
   "name": "python",
   "nbconvert_exporter": "python",
   "pygments_lexer": "ipython3",
   "version": "3.6.7"
  }
 },
 "nbformat": 4,
 "nbformat_minor": 2
}
