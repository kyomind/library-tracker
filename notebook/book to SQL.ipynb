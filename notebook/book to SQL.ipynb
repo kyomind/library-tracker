{
 "cells": [
  {
   "cell_type": "code",
   "execution_count": 13,
   "metadata": {},
   "outputs": [],
   "source": [
    "import requests\n",
    "from bs4 import BeautifulSoup"
   ]
  },
  {
   "cell_type": "markdown",
   "metadata": {},
   "source": [
    "### 除去id以後的參數，得到乾淨的網址"
   ]
  },
  {
   "cell_type": "code",
   "execution_count": null,
   "metadata": {},
   "outputs": [],
   "source": [
    "url_raw=input('請輸入網址：')\n",
    "url=url_raw.split('&')[0]\n",
    "url"
   ]
  },
  {
   "cell_type": "code",
   "execution_count": 10,
   "metadata": {},
   "outputs": [
    {
     "data": {
      "text/plain": [
       "'http://hylib.ht.org.tw/bookDetail.do?id=104838'"
      ]
     },
     "execution_count": 10,
     "metadata": {},
     "output_type": "execute_result"
    }
   ],
   "source": [
    "url_raw='http://hylib.ht.org.tw/bookDetail.do?id=104838'\n",
    "url=url_raw.split('&')[0]\n",
    "url"
   ]
  },
  {
   "cell_type": "markdown",
   "metadata": {},
   "source": [
    "### 從網址中再擷取書id，以後續填入data"
   ]
  },
  {
   "cell_type": "code",
   "execution_count": 11,
   "metadata": {},
   "outputs": [
    {
     "name": "stdout",
     "output_type": "stream",
     "text": [
      "書的id為 104838 <class 'str'>\n"
     ]
    }
   ],
   "source": [
    "try:\n",
    "    book_id=url.split('=')[1]\n",
    "except :\n",
    "    print('請填入符合圖書館格式之網址')\n",
    "else:print('書的id為',book_id,type(book_id))"
   ]
  },
  {
   "cell_type": "markdown",
   "metadata": {},
   "source": [
    "### 取得書名資料\n",
    "需要抓整頁，只在新增時進行！"
   ]
  },
  {
   "cell_type": "code",
   "execution_count": 4,
   "metadata": {},
   "outputs": [
    {
     "data": {
      "text/plain": [
       "'孤獨六講'"
      ]
     },
     "execution_count": 4,
     "metadata": {},
     "output_type": "execute_result"
    }
   ],
   "source": [
    "book_page = requests.get(url)\n",
    "book_page_soup = BeautifulSoup(book_page.text, 'html.parser')\n",
    "\n",
    "book_name=book_page_soup.find('h3').text\n",
    "book_name"
   ]
  },
  {
   "cell_type": "markdown",
   "metadata": {},
   "source": [
    "### 取得書的借閱狀態詳細資料\n",
    "只要表格內容就好，不用欄位名稱"
   ]
  },
  {
   "cell_type": "code",
   "execution_count": 14,
   "metadata": {},
   "outputs": [
    {
     "data": {
      "text/plain": [
       "\n",
       "<div id=\"holdListLoading\"></div>\n",
       "\t\t\n",
       "\t\t\n",
       "\t\t排序 \n",
       "\t\t<select id=\"holdSortType\" onchange=\"changeHoldListSortType()\">\n",
       "<option selected=\"selected\" value=\"\">請選擇</option>\n",
       "<option value=\"h.status-asc\">館藏狀態-升冪</option>\n",
       "<option value=\"h.status-desc\">館藏狀態-降冪</option>\n",
       "<option value=\"h.barcode-asc\">條碼號-升冪</option>\n",
       "<option value=\"h.barcode-desc\">條碼號-降冪</option>\n",
       "<option value=\"c.collection_code,f.feature_code,class_no,author_no,description3,description,description2-asc,description4-asc\">索書號-升冪</option>\n",
       "<option value=\"c.collection_code desc,f.feature_code desc,class_no desc,author_no desc,description3 desc,description desc,description2-desc,description4-desc\">索書號-降冪</option>\n",
       "</select>\n",
       "\t\t總件數 <span class=\"red\" id=\"holdListAllNum\">2</span>件  \n",
       "\t\t<img alt=\"上10頁\" border=\"0\" onclick=\"holdListMovePage('-',10)\" src=\"images/backall.gif\" style=\"cursor:pointer\"/>  \n",
       "\t\t<img alt=\"上一頁\" border=\"0\" onclick=\"holdListMovePage('-',1)\" src=\"images/back01.gif\" style=\"cursor:pointer\"/>   \t\t\t\n",
       "\t\t\n",
       "\t\t\t\t<a style=\"color:red\">1</a>\n",
       "<img alt=\"下一頁\" border=\"0\" onclick=\"holdListMovePage('+',1)\" src=\"images/next01.gif\" style=\"cursor:pointer\"/>  \n",
       "\t\t<img alt=\"下10頁\" border=\"0\" onclick=\"holdListMovePage('+',10)\" src=\"images/nextall.gif\" style=\"cursor:pointer\"/>    \t\t\t\n",
       "\t\t每頁顯示 \n",
       "\t\t<select id=\"selectHoldNumInPage\" name=\"selectNumInPage\" onchange=\"selectHoldListNumInPage();\">\n",
       "<option selected=\"selected\" value=\"10\">10</option>\n",
       "<option value=\"20\">20</option>\n",
       "<option value=\"30\">30</option>\n",
       "<option value=\"40\">40</option>\n",
       "</select> 件 \n",
       "\t\t<span id=\"selectHoldPage\" style=\"display:none;\">1</span>\n",
       "<span id=\"startHoldPage\" style=\"display:none;\">1</span>\n",
       "<span id=\"endHoldPage\" style=\"display:none;\">5</span>\n",
       "<span id=\"allHoldPageNum\" style=\"display:none;\">1</span>\n",
       "<br/>\n",
       "<table class=\"order\">\n",
       "<tr>\n",
       "<th>#</th>\n",
       "<th>條碼號</th>\n",
       "<th>館藏地/室</th>\n",
       "<th>索書號</th>\n",
       "<th>資料類型</th>\n",
       "<th>目前狀態 / 到期日</th>\n",
       "<th>附件</th>\n",
       "<th rel=\"reserve\">預約</th>\n",
       "</tr>\n",
       "<tr>\n",
       "<td>1</td>\n",
       "<td>0312556</td>\n",
       "<td>敦化總館/敦化總館</td>\n",
       "<td> 855 4424-1  [+] </td>\n",
       "<td>附件/一般</td>\n",
       "<td>書在館</td>\n",
       "<td></td>\n",
       "<td rel=\"reserve\">\n",
       "\t\t\t\t\n",
       "\t\t\t\t\t\t\t\t不可預約\n",
       "\t\t\t\t\t\n",
       "\t\t\t\t\t\t\t</td>\n",
       "</tr>\n",
       "<tr>\n",
       "<td>2</td>\n",
       "<td>0312555</td>\n",
       "<td>敦化總館/敦化總館</td>\n",
       "<td> 855 4424-1   </td>\n",
       "<td>一般圖書/一般</td>\n",
       "<td>書在館</td>\n",
       "<td>附光碟1片</td>\n",
       "<td rel=\"reserve\">\n",
       "\t\t\t\t\n",
       "\t\t\t\t\t\t\t\t不可預約\n",
       "\t\t\t\t\t\n",
       "\t\t\t\t\t\t\t</td>\n",
       "</tr>\n",
       "</table>\n",
       "<div class=\"return\"><a href=\"#\">回頁首</a></div>\n",
       "<script type=\"text/javascript\">\n",
       "function selectHoldListNumInPage(){\n",
       "\tdocument.getElementById('selectHoldPage').innerHTML = 1;\n",
       "\tdocument.getElementById('startHoldPage').innerHTML= 1;\n",
       "\tdocument.getElementById('endHoldPage').innerHTML= 5;\n",
       "\tholdListAjaxQuery();\n",
       "}\n",
       "function changeHoldListSortType(){\n",
       "\tholdListAjaxQuery();\n",
       "}\n",
       "function holdListMovePage(func,page){\n",
       "\tvar allHoldPageNum = document.getElementById('allHoldPageNum').innerHTML;\n",
       "\tvar startHoldPage = document.getElementById('startHoldPage').innerHTML;\n",
       "\tvar endHoldPage = document.getElementById('endHoldPage').innerHTML; \n",
       "\tvar selectHoldPage = document.getElementById('selectHoldPage').innerHTML;\n",
       "\t\n",
       "\tvar startHoldPageInt = parseInt(startHoldPage,10);\n",
       "\tvar endHoldPageInt = parseInt(endHoldPage,10);\n",
       "\t\n",
       "\tif(func=='-'){\n",
       "\t\tif(parseInt(selectHoldPage,10) - page >0)\n",
       "\t\t{\n",
       "\t\t\tdocument.getElementById('selectHoldPage').innerHTML = parseInt(selectHoldPage,10) - page;\n",
       "\t\t}else{\n",
       "\t\t\tdocument.getElementById('selectHoldPage').innerHTML = 1;\n",
       "\t\t}\n",
       "\t}else if(func=='+'){\n",
       "\t\tif(parseInt(selectHoldPage,10) + page < parseInt(allHoldPageNum,10))\n",
       "\t\t{\n",
       "\t\t\tdocument.getElementById('selectHoldPage').innerHTML = parseInt(selectHoldPage,10) + page;\n",
       "\t\t}else{\n",
       "\t\t\tdocument.getElementById('selectHoldPage').innerHTML = allHoldPageNum;\n",
       "\t\t}\n",
       "\t}\n",
       "\tselectHoldListPage = document.getElementById('selectHoldPage').innerHTML; \n",
       "\tvar selectHoldListPageInt =  parseInt(selectHoldListPage,10);\n",
       "    var allHoldPageNumInt = parseInt(allHoldPageNum,10);\n",
       "\tif(startHoldPage!=endHoldPage){\n",
       "\t\t\n",
       "\t\tif(selectHoldListPageInt<=startHoldPageInt){\n",
       "\t\t\tstartHoldPageInt = selectHoldListPageInt;\n",
       "\t\t\tif(startHoldPageInt+4 >allHoldPageNumInt){\n",
       "\t\t\t\tendHoldPageInt = allHoldPageNumInt;\n",
       "\t\t\t}else{\n",
       "\t\t\t\tendHoldPageInt = startHoldPageInt+4;\n",
       "\t\t\t}\n",
       "\t\t}else if(selectHoldListPageInt>=endHoldPageInt){\n",
       "\t\t\tendHoldPageInt = selectHoldListPageInt;\n",
       "\t\t\tif(endHoldPageInt-4<1){\n",
       "\t\t\t\tstartHoldPageInt = 1;\n",
       "\t\t\t}else{\n",
       "\t\t\t\tstartHoldPageInt = endHoldPageInt-4;\n",
       "\t\t\t}\n",
       "\t\t}\n",
       "\t\t//alert(\"start=\"+startHoldPageInt+\" end=\"+endHoldPageInt+\" all=\"+allHoldPageNumInt);\n",
       "\t\t\n",
       "\t\tif(startHoldPageInt==selectHoldListPageInt && startHoldPageInt!=1){\n",
       "\t\t\tstartHoldPageInt = startHoldPageInt -1;\n",
       "\t\t\tendHoldPageInt = endHoldPageInt -1;\n",
       "\t\t}else if(endHoldPageInt==selectHoldListPageInt && endHoldPageInt<allHoldPageNumInt){\n",
       "\t\t\tstartHoldPageInt = startHoldPageInt +1;\n",
       "\t\t\tendHoldPageInt = endHoldPageInt +1;\n",
       "\t\t}\n",
       "\t}\n",
       "\n",
       "\tdocument.getElementById('startHoldPage').innerHTML= startHoldPageInt;\n",
       "\tdocument.getElementById('endHoldPage').innerHTML= endHoldPageInt;\n",
       "\n",
       "\tholdListAjaxQuery();\n",
       "}\n",
       "function selectHoldListPage(selectHoldListPage){\n",
       "\tvar allHoldPageNum = document.getElementById('allHoldPageNum').innerHTML;\n",
       "\tvar startHoldPage = document.getElementById('startHoldPage').innerHTML;\n",
       "\tvar endHoldPage = document.getElementById('endHoldPage').innerHTML; \n",
       "\tif(startHoldPage!=endHoldPage){\n",
       "\t\tif(startHoldPage==selectHoldListPage && startHoldPage!=1){\n",
       "\t\t\tstartHoldPage = parseInt(startHoldPage,10) -1;\n",
       "\t\t\tendHoldPage = parseInt(endHoldPage,10) -1;\n",
       "\t\t}else if(endHoldPage==selectHoldListPage && endHoldPage!=allHoldPageNum){\n",
       "\t\t\tstartHoldPage = parseInt(startHoldPage,10) +1;\n",
       "\t\t\tendHoldPage = parseInt(endHoldPage,10) +1;\n",
       "\t\t}\n",
       "\t}\n",
       "\tdocument.getElementById('startHoldPage').innerHTML = startHoldPage;\n",
       "\tdocument.getElementById('endHoldPage').innerHTML = endHoldPage;\n",
       "\tdocument.getElementById('selectHoldPage').innerHTML = selectHoldListPage;\n",
       "\tholdListAjaxQuery();\n",
       "}\n",
       "function selectKeepSite(){\n",
       "\tdocument.getElementById('selectHoldPage').innerHTML = 1;\n",
       "\tdocument.getElementById('startHoldPage').innerHTML= 1;\n",
       "\tdocument.getElementById('endHoldPage').innerHTML= 5;\n",
       "\tholdListAjaxQuery();\n",
       "}\n",
       "</script>"
      ]
     },
     "execution_count": 14,
     "metadata": {},
     "output_type": "execute_result"
    }
   ],
   "source": [
    "data = {'id':book_id}\n",
    "\n",
    "resp = requests.post(\n",
    "    'http://hylib.ht.org.tw/maintain/HoldListForBookDetailAjax.do', data=data)\n",
    "soup = BeautifulSoup(resp.text, 'html.parser')\n",
    "soup"
   ]
  },
  {
   "cell_type": "code",
   "execution_count": 6,
   "metadata": {},
   "outputs": [
    {
     "data": {
      "text/plain": [
       "<table class=\"order\">\n",
       "<tr>\n",
       "<th>#</th>\n",
       "<th>條碼號</th>\n",
       "<th>館藏地/室</th>\n",
       "<th>索書號</th>\n",
       "<th>資料類型</th>\n",
       "<th>目前狀態 / 到期日</th>\n",
       "<th>附件</th>\n",
       "<th rel=\"reserve\">預約</th>\n",
       "</tr>\n",
       "<tr>\n",
       "<td>1</td>\n",
       "<td>0312556</td>\n",
       "<td>敦化總館/敦化總館</td>\n",
       "<td> 855 4424-1  [+] </td>\n",
       "<td>附件/一般</td>\n",
       "<td>書在館</td>\n",
       "<td></td>\n",
       "<td rel=\"reserve\">\n",
       "\t\t\t\t\n",
       "\t\t\t\t\t\t\t\t不可預約\n",
       "\t\t\t\t\t\n",
       "\t\t\t\t\t\t\t</td>\n",
       "</tr>\n",
       "<tr>\n",
       "<td>2</td>\n",
       "<td>0312555</td>\n",
       "<td>敦化總館/敦化總館</td>\n",
       "<td> 855 4424-1   </td>\n",
       "<td>一般圖書/一般</td>\n",
       "<td>書在館</td>\n",
       "<td>附光碟1片</td>\n",
       "<td rel=\"reserve\">\n",
       "\t\t\t\t\n",
       "\t\t\t\t\t\t\t\t不可預約\n",
       "\t\t\t\t\t\n",
       "\t\t\t\t\t\t\t</td>\n",
       "</tr>\n",
       "</table>"
      ]
     },
     "execution_count": 6,
     "metadata": {},
     "output_type": "execute_result"
    }
   ],
   "source": [
    "table=soup.find('table', 'order')\n",
    "table"
   ]
  },
  {
   "cell_type": "code",
   "execution_count": 20,
   "metadata": {},
   "outputs": [],
   "source": [
    "books = []\n",
    "for tr in table.find_all('tr')[1:]:\n",
    "    book = []\n",
    "    book_dict = {}\n",
    "    book_key = [\n",
    "        'book_name', 'book_id', 'copy', 'barcode_id', 'location',\n",
    "        'call_number', 'data_type', 'status', 'reservation'\n",
    "    ]\n",
    "    book.append(book_name)\n",
    "    book.append(book_id)\n",
    "    for td in tr.find_all('td'):\n",
    "        if td.text == '':\n",
    "            continue\n",
    "        book.append(td.text.strip().strip('/').strip())\n",
    "        if len(book) > 9:\n",
    "            book.pop(-2)\n",
    "        book_dict = dict(zip(book_key, book))\n",
    "    books.append(book_dict)"
   ]
  },
  {
   "cell_type": "code",
   "execution_count": 18,
   "metadata": {},
   "outputs": [],
   "source": [
    "books = []\n",
    "for tr in table.find_all('tr')[1:]:\n",
    "    book = []\n",
    "    book.append(book_name)\n",
    "    book.append(book_id)\n",
    "    for td in tr.find_all('td'):\n",
    "        if td.text == '':\n",
    "            continue\n",
    "        book.append(td.text.strip().strip('/').strip())\n",
    "        if len(book) > 9:\n",
    "            book.pop(-2)\n",
    "    books.append(book)"
   ]
  },
  {
   "cell_type": "code",
   "execution_count": 29,
   "metadata": {},
   "outputs": [
    {
     "name": "stdout",
     "output_type": "stream",
     "text": [
      "1 ○\n",
      "0421610 ○\n",
      "敦化總館/敦化總館 ○\n",
      "312.932P97 4681 ○\n",
      "一般圖書/一般 ○\n",
      "已被外借 / 2019-04-01 ○\n",
      " ○\n",
      "0人預約 ○\n"
     ]
    }
   ],
   "source": [
    "for td in table.find_all('tr')[1].find_all('td'):\n",
    "    print(td.text.strip().strip('/').strip(),'○')"
   ]
  },
  {
   "cell_type": "code",
   "execution_count": 21,
   "metadata": {},
   "outputs": [
    {
     "data": {
      "text/plain": [
       "[{'book_name': '孤獨六講',\n",
       "  'book_id': '104838',\n",
       "  'copy': '1',\n",
       "  'barcode_id': '0312556',\n",
       "  'location': '敦化總館/敦化總館',\n",
       "  'call_number': '855 4424-1  [+]',\n",
       "  'data_type': '附件/一般',\n",
       "  'status': '書在館',\n",
       "  'reservation': '不可預約'},\n",
       " {'book_name': '孤獨六講',\n",
       "  'book_id': '104838',\n",
       "  'copy': '2',\n",
       "  'barcode_id': '0312555',\n",
       "  'location': '敦化總館/敦化總館',\n",
       "  'call_number': '855 4424-1',\n",
       "  'data_type': '一般圖書/一般',\n",
       "  'status': '書在館',\n",
       "  'reservation': '不可預約'}]"
      ]
     },
     "execution_count": 21,
     "metadata": {},
     "output_type": "execute_result"
    }
   ],
   "source": [
    "books"
   ]
  },
  {
   "cell_type": "code",
   "execution_count": null,
   "metadata": {},
   "outputs": [],
   "source": []
  },
  {
   "cell_type": "code",
   "execution_count": 1,
   "metadata": {},
   "outputs": [],
   "source": [
    "import re"
   ]
  },
  {
   "cell_type": "code",
   "execution_count": 8,
   "metadata": {},
   "outputs": [
    {
     "data": {
      "text/plain": [
       "'333'"
      ]
     },
     "execution_count": 8,
     "metadata": {},
     "output_type": "execute_result"
    }
   ],
   "source": [
    "re.match(r'\\d+','333一').group()"
   ]
  },
  {
   "cell_type": "code",
   "execution_count": null,
   "metadata": {},
   "outputs": [],
   "source": []
  },
  {
   "cell_type": "code",
   "execution_count": null,
   "metadata": {},
   "outputs": [],
   "source": []
  },
  {
   "cell_type": "code",
   "execution_count": null,
   "metadata": {},
   "outputs": [],
   "source": []
  },
  {
   "cell_type": "code",
   "execution_count": null,
   "metadata": {},
   "outputs": [],
   "source": []
  },
  {
   "cell_type": "code",
   "execution_count": null,
   "metadata": {},
   "outputs": [],
   "source": []
  },
  {
   "cell_type": "code",
   "execution_count": null,
   "metadata": {},
   "outputs": [],
   "source": []
  },
  {
   "cell_type": "code",
   "execution_count": null,
   "metadata": {},
   "outputs": [],
   "source": []
  },
  {
   "cell_type": "code",
   "execution_count": null,
   "metadata": {},
   "outputs": [],
   "source": []
  },
  {
   "cell_type": "code",
   "execution_count": null,
   "metadata": {},
   "outputs": [],
   "source": []
  },
  {
   "cell_type": "code",
   "execution_count": null,
   "metadata": {},
   "outputs": [],
   "source": []
  },
  {
   "cell_type": "code",
   "execution_count": null,
   "metadata": {},
   "outputs": [],
   "source": []
  }
 ],
 "metadata": {
  "kernelspec": {
   "display_name": "Python 3",
   "language": "python",
   "name": "python3"
  },
  "language_info": {
   "codemirror_mode": {
    "name": "ipython",
    "version": 3
   },
   "file_extension": ".py",
   "mimetype": "text/x-python",
   "name": "python",
   "nbconvert_exporter": "python",
   "pygments_lexer": "ipython3",
   "version": "3.6.7"
  }
 },
 "nbformat": 4,
 "nbformat_minor": 2
}
